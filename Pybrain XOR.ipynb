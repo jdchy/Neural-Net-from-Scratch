{
 "cells": [
  {
   "cell_type": "code",
   "execution_count": 1,
   "id": "ba175183",
   "metadata": {},
   "outputs": [],
   "source": [
    "import pybrain"
   ]
  },
  {
   "cell_type": "code",
   "execution_count": 2,
   "id": "c544a13f",
   "metadata": {},
   "outputs": [],
   "source": [
    "from pybrain.tools.shortcuts import buildNetwork\n",
    "from pybrain.datasets import SupervisedDataSet\n",
    "from pybrain.supervised import BackpropTrainer\n",
    "from pybrain.structure.modules import SigmoidLayer"
   ]
  },
  {
   "cell_type": "code",
   "execution_count": 3,
   "id": "13fb5c44",
   "metadata": {},
   "outputs": [],
   "source": [
    "network = buildNetwork(2, 3, 1, outclass = SigmoidLayer, hiddenclass = SigmoidLayer, bias = False)"
   ]
  },
  {
   "cell_type": "code",
   "execution_count": 4,
   "id": "8c3e9ac2",
   "metadata": {},
   "outputs": [
    {
     "data": {
      "text/plain": [
       "<FeedForwardNetwork 'FeedForwardNetwork-5'>"
      ]
     },
     "execution_count": 4,
     "metadata": {},
     "output_type": "execute_result"
    }
   ],
   "source": [
    "network"
   ]
  },
  {
   "cell_type": "code",
   "execution_count": 5,
   "id": "787ac01e",
   "metadata": {},
   "outputs": [
    {
     "data": {
      "text/plain": [
       "<LinearLayer 'in'>"
      ]
     },
     "execution_count": 5,
     "metadata": {},
     "output_type": "execute_result"
    }
   ],
   "source": [
    "network['in']"
   ]
  },
  {
   "cell_type": "code",
   "execution_count": 6,
   "id": "259641f7",
   "metadata": {},
   "outputs": [
    {
     "data": {
      "text/plain": [
       "<SigmoidLayer 'hidden0'>"
      ]
     },
     "execution_count": 6,
     "metadata": {},
     "output_type": "execute_result"
    }
   ],
   "source": [
    "network['hidden0']"
   ]
  },
  {
   "cell_type": "code",
   "execution_count": 7,
   "id": "8f890f1e",
   "metadata": {},
   "outputs": [
    {
     "data": {
      "text/plain": [
       "<SigmoidLayer 'out'>"
      ]
     },
     "execution_count": 7,
     "metadata": {},
     "output_type": "execute_result"
    }
   ],
   "source": [
    "network['out']"
   ]
  },
  {
   "cell_type": "code",
   "execution_count": 8,
   "id": "4d8c9382",
   "metadata": {},
   "outputs": [],
   "source": [
    "network['bias']"
   ]
  },
  {
   "cell_type": "code",
   "execution_count": 9,
   "id": "535e3e30",
   "metadata": {},
   "outputs": [],
   "source": [
    "dataset = SupervisedDataSet(2, 1)\n",
    "dataset.addSample((0,0), (0,))\n",
    "dataset.addSample((0,1), (1,))\n",
    "dataset.addSample((1,0), (1,))\n",
    "dataset.addSample((1,1), (0,))"
   ]
  },
  {
   "cell_type": "code",
   "execution_count": 10,
   "id": "54e9831d",
   "metadata": {},
   "outputs": [
    {
     "data": {
      "text/plain": [
       "array([[0., 0.],\n",
       "       [0., 1.],\n",
       "       [1., 0.],\n",
       "       [1., 1.]])"
      ]
     },
     "execution_count": 10,
     "metadata": {},
     "output_type": "execute_result"
    }
   ],
   "source": [
    "dataset['input']"
   ]
  },
  {
   "cell_type": "code",
   "execution_count": 11,
   "id": "bec5670b",
   "metadata": {},
   "outputs": [
    {
     "data": {
      "text/plain": [
       "array([[0.],\n",
       "       [1.],\n",
       "       [1.],\n",
       "       [0.]])"
      ]
     },
     "execution_count": 11,
     "metadata": {},
     "output_type": "execute_result"
    }
   ],
   "source": [
    "dataset['target']"
   ]
  },
  {
   "cell_type": "code",
   "execution_count": 12,
   "id": "56fd1381",
   "metadata": {},
   "outputs": [],
   "source": [
    "optimizer = BackpropTrainer(module=network, dataset=dataset, learningrate=0.1)"
   ]
  },
  {
   "cell_type": "code",
   "execution_count": 13,
   "id": "38c67749",
   "metadata": {},
   "outputs": [
    {
     "name": "stdout",
     "output_type": "stream",
     "text": [
      "Epoch: 1 Error: 0.15540428276478935\n",
      "Epoch: 1001 Error: 0.0991027362103368\n",
      "Epoch: 2001 Error: 0.07991074156839803\n",
      "Epoch: 3001 Error: 0.07018118351460942\n",
      "Epoch: 4001 Error: 0.0544570502179168\n",
      "Epoch: 5001 Error: 0.03427350900447778\n",
      "Epoch: 6001 Error: 0.022291980618511054\n",
      "Epoch: 7001 Error: 0.015963076609010488\n",
      "Epoch: 8001 Error: 0.012265887332991695\n",
      "Epoch: 9001 Error: 0.009887393260869282\n",
      "Epoch: 10001 Error: 0.008243830556063333\n",
      "Epoch: 11001 Error: 0.0070481425592198955\n",
      "Epoch: 12001 Error: 0.006141390754074407\n",
      "Epoch: 13001 Error: 0.005433058233132297\n",
      "Epoch: 14001 Error: 0.004864981310987329\n",
      "Epoch: 15001 Error: 0.004400136095975337\n",
      "Epoch: 16001 Error: 0.004013104760742079\n",
      "Epoch: 17001 Error: 0.0036864280764154116\n",
      "Epoch: 18001 Error: 0.003407232412612739\n",
      "Epoch: 19001 Error: 0.003165840535007876\n",
      "Epoch: 20001 Error: 0.0029553157644014202\n",
      "Epoch: 21001 Error: 0.0027701463873559735\n",
      "Epoch: 22001 Error: 0.0026060764870668076\n",
      "Epoch: 23001 Error: 0.002459726329437176\n",
      "Epoch: 24001 Error: 0.002328490872161917\n",
      "Epoch: 25001 Error: 0.002210138261364992\n",
      "Epoch: 26001 Error: 0.002102887413528381\n",
      "Epoch: 27001 Error: 0.0020053074966362703\n",
      "Epoch: 28001 Error: 0.0019160870249802866\n",
      "Epoch: 29001 Error: 0.0018342590699187001\n"
     ]
    }
   ],
   "source": [
    "epochs = 30000\n",
    "error = []\n",
    "for epoch in range(epochs):\n",
    "  error_average = optimizer.train()\n",
    "  if epoch % 1000 == 0:\n",
    "    print('Epoch: ' + str(epoch + 1) + ' Error: ' + str(error_average))\n",
    "    error.append(error_average)"
   ]
  },
  {
   "cell_type": "code",
   "execution_count": 14,
   "id": "cdbecda5",
   "metadata": {},
   "outputs": [
    {
     "data": {
      "text/plain": [
       "[<matplotlib.lines.Line2D at 0x24c8803b0d0>]"
      ]
     },
     "execution_count": 14,
     "metadata": {},
     "output_type": "execute_result"
    },
    {
     "data": {
      "image/png": "[encoded data removed]",
      "text/plain": [
       "<Figure size 432x288 with 1 Axes>"
      ]
     },
     "metadata": {
      "needs_background": "light"
     },
     "output_type": "display_data"
    }
   ],
   "source": [
    "import matplotlib.pyplot as plt\n",
    "plt.xlabel('Epoch')\n",
    "plt.ylabel('Error')\n",
    "plt.plot(error)"
   ]
  },
  {
   "cell_type": "code",
   "execution_count": 15,
   "id": "8334405b",
   "metadata": {},
   "outputs": [
    {
     "data": {
      "text/plain": [
       "array([  0.83933979,  -1.55572276,  -5.90915703,  -6.4909394 ,\n",
       "         8.43274626,  -4.22821338,  15.42609887, -13.59592392,\n",
       "        -7.97271814])"
      ]
     },
     "execution_count": 15,
     "metadata": {},
     "output_type": "execute_result"
    }
   ],
   "source": [
    "network.params"
   ]
  },
  {
   "cell_type": "code",
   "execution_count": 16,
   "id": "f4ec56b1",
   "metadata": {},
   "outputs": [
    {
     "data": {
      "text/plain": [
       "array([0.04430795])"
      ]
     },
     "execution_count": 16,
     "metadata": {},
     "output_type": "execute_result"
    }
   ],
   "source": [
    "network.activate([0,0])"
   ]
  },
  {
   "cell_type": "code",
   "execution_count": 17,
   "id": "144e5054",
   "metadata": {},
   "outputs": [
    {
     "data": {
      "text/plain": [
       "array([0.9277759])"
      ]
     },
     "execution_count": 17,
     "metadata": {},
     "output_type": "execute_result"
    }
   ],
   "source": [
    "network.activate([0,1])"
   ]
  },
  {
   "cell_type": "code",
   "execution_count": 18,
   "id": "790fbf13",
   "metadata": {},
   "outputs": [
    {
     "data": {
      "text/plain": [
       "array([0.94073591])"
      ]
     },
     "execution_count": 18,
     "metadata": {},
     "output_type": "execute_result"
    }
   ],
   "source": [
    "network.activate([1,0])"
   ]
  },
  {
   "cell_type": "code",
   "execution_count": 19,
   "id": "402cbba2",
   "metadata": {},
   "outputs": [
    {
     "data": {
      "text/plain": [
       "array([0.05771347])"
      ]
     },
     "execution_count": 19,
     "metadata": {},
     "output_type": "execute_result"
    }
   ],
   "source": [
    "network.activate([1,1])"
   ]
  }
 ],
 "metadata": {
  "kernelspec": {
   "display_name": "Python 3",
   "language": "python",
   "name": "python3"
  },
  "language_info": {
   "codemirror_mode": {
    "name": "ipython",
    "version": 3
   },
   "file_extension": ".py",
   "mimetype": "text/x-python",
   "name": "python",
   "nbconvert_exporter": "python",
   "pygments_lexer": "ipython3",
   "version": "3.8.8"
  }
 },
 "nbformat": 4,
 "nbformat_minor": 5
}
