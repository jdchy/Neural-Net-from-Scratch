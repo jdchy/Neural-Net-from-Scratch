{
 "cells": [
  {
   "cell_type": "markdown",
   "id": "d0d3cd8f",
   "metadata": {},
   "source": [
    "## Inputs, outputs and weights"
   ]
  },
  {
   "cell_type": "code",
   "execution_count": 1,
   "id": "ea9e510c",
   "metadata": {},
   "outputs": [],
   "source": [
    "import numpy as np"
   ]
  },
  {
   "cell_type": "code",
   "execution_count": 2,
   "id": "80244498",
   "metadata": {},
   "outputs": [],
   "source": [
    "inputs = np.array([[0,0], [0,1], [1,0], [1,1]])"
   ]
  },
  {
   "cell_type": "code",
   "execution_count": 3,
   "id": "fe348d7a",
   "metadata": {},
   "outputs": [],
   "source": [
    "outputs = np.array([0, 1, 1, 1])"
   ]
  },
  {
   "cell_type": "code",
   "execution_count": 4,
   "id": "301114da",
   "metadata": {},
   "outputs": [],
   "source": [
    "weights = np.array([0.0, 0.0])"
   ]
  },
  {
   "cell_type": "code",
   "execution_count": 5,
   "id": "3507f8c6",
   "metadata": {},
   "outputs": [],
   "source": [
    "learning_rate = 0.1"
   ]
  },
  {
   "cell_type": "markdown",
   "id": "f64a1695",
   "metadata": {},
   "source": [
    "## Step function"
   ]
  },
  {
   "cell_type": "code",
   "execution_count": 6,
   "id": "04db5d2c",
   "metadata": {},
   "outputs": [],
   "source": [
    "def step_function(sum):\n",
    "    if (sum >=1):\n",
    "        return 1\n",
    "    return 0"
   ]
  },
  {
   "cell_type": "markdown",
   "id": "c5f0923d",
   "metadata": {},
   "source": [
    "## Calculate output"
   ]
  },
  {
   "cell_type": "code",
   "execution_count": 7,
   "id": "265e9cf8",
   "metadata": {},
   "outputs": [],
   "source": [
    "def calculate_output(instance):\n",
    "    s = instance.dot(weights)\n",
    "    return step_function(s)"
   ]
  },
  {
   "cell_type": "markdown",
   "id": "38102f88",
   "metadata": {},
   "source": [
    "## Train"
   ]
  },
  {
   "cell_type": "code",
   "execution_count": 8,
   "id": "31bb27d6",
   "metadata": {},
   "outputs": [],
   "source": [
    "def train():\n",
    "    total_error = 1\n",
    "    while (total_error != 0):\n",
    "        total_error = 0\n",
    "        for i in range(len(outputs)):\n",
    "            prediction = calculate_output(inputs[i])\n",
    "            error = abs(outputs[i] - prediction)\n",
    "            total_error += error\n",
    "            if error > 0:\n",
    "                for j in range(len(weights)):\n",
    "                    weights[j] = weights[j] + (learning_rate * inputs[i][j] * error)\n",
    "                    print(' Weights update : ' + str(weights[j]))\n",
    "        print('Total error : ' + str(total_error))"
   ]
  },
  {
   "cell_type": "code",
   "execution_count": 9,
   "id": "5e171128",
   "metadata": {},
   "outputs": [
    {
     "name": "stdout",
     "output_type": "stream",
     "text": [
      " Weights update : 0.0\n",
      " Weights update : 0.1\n",
      " Weights update : 0.1\n",
      " Weights update : 0.1\n",
      " Weights update : 0.2\n",
      " Weights update : 0.2\n",
      "Total error : 3\n",
      " Weights update : 0.2\n",
      " Weights update : 0.30000000000000004\n",
      " Weights update : 0.30000000000000004\n",
      " Weights update : 0.30000000000000004\n",
      " Weights update : 0.4\n",
      " Weights update : 0.4\n",
      "Total error : 3\n",
      " Weights update : 0.4\n",
      " Weights update : 0.5\n",
      " Weights update : 0.5\n",
      " Weights update : 0.5\n",
      "Total error : 2\n",
      " Weights update : 0.5\n",
      " Weights update : 0.6\n",
      " Weights update : 0.6\n",
      " Weights update : 0.6\n",
      "Total error : 2\n",
      " Weights update : 0.6\n",
      " Weights update : 0.7\n",
      " Weights update : 0.7\n",
      " Weights update : 0.7\n",
      "Total error : 2\n",
      " Weights update : 0.7\n",
      " Weights update : 0.7999999999999999\n",
      " Weights update : 0.7999999999999999\n",
      " Weights update : 0.7999999999999999\n",
      "Total error : 2\n",
      " Weights update : 0.7999999999999999\n",
      " Weights update : 0.8999999999999999\n",
      " Weights update : 0.8999999999999999\n",
      " Weights update : 0.8999999999999999\n",
      "Total error : 2\n",
      " Weights update : 0.8999999999999999\n",
      " Weights update : 0.9999999999999999\n",
      " Weights update : 0.9999999999999999\n",
      " Weights update : 0.9999999999999999\n",
      "Total error : 2\n",
      " Weights update : 0.9999999999999999\n",
      " Weights update : 1.0999999999999999\n",
      " Weights update : 1.0999999999999999\n",
      " Weights update : 1.0999999999999999\n",
      "Total error : 2\n",
      "Total error : 0\n"
     ]
    }
   ],
   "source": [
    "train()"
   ]
  },
  {
   "cell_type": "code",
   "execution_count": 10,
   "id": "67b294e3",
   "metadata": {
    "scrolled": true
   },
   "outputs": [
    {
     "data": {
      "text/plain": [
       "array([1.1, 1.1])"
      ]
     },
     "execution_count": 10,
     "metadata": {},
     "output_type": "execute_result"
    }
   ],
   "source": [
    "weights"
   ]
  },
  {
   "cell_type": "markdown",
   "id": "15fc4dd7",
   "metadata": {},
   "source": [
    "## Classification"
   ]
  },
  {
   "cell_type": "code",
   "execution_count": 11,
   "id": "04375890",
   "metadata": {},
   "outputs": [
    {
     "data": {
      "text/plain": [
       "1"
      ]
     },
     "execution_count": 11,
     "metadata": {},
     "output_type": "execute_result"
    }
   ],
   "source": [
    "calculate_output(np.array([[1,0]]))"
   ]
  }
 ],
 "metadata": {
  "kernelspec": {
   "display_name": "Python 3",
   "language": "python",
   "name": "python3"
  },
  "language_info": {
   "codemirror_mode": {
    "name": "ipython",
    "version": 3
   },
   "file_extension": ".py",
   "mimetype": "text/x-python",
   "name": "python",
   "nbconvert_exporter": "python",
   "pygments_lexer": "ipython3",
   "version": "3.8.8"
  }
 },
 "nbformat": 4,
 "nbformat_minor": 5
}
