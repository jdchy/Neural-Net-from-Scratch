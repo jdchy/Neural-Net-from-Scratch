{
 "cells": [
  {
   "cell_type": "code",
   "execution_count": 1,
   "id": "06eabe40",
   "metadata": {},
   "outputs": [
    {
     "name": "stdout",
     "output_type": "stream",
     "text": [
      "Collecting https://github.com/pybrain/pybrain/archive/0.3.3.zip\n",
      "  Downloading https://github.com/pybrain/pybrain/archive/0.3.3.zip\n",
      "Requirement already satisfied: scipy in c:\\users\\joydip.chowdhury\\anaconda3\\lib\\site-packages (from PyBrain==0.3.1) (1.6.2)\n",
      "Requirement already satisfied: numpy<1.23.0,>=1.16.5 in c:\\users\\joydip.chowdhury\\anaconda3\\lib\\site-packages (from scipy->PyBrain==0.3.1) (1.21.0)\n",
      "Building wheels for collected packages: PyBrain\n",
      "  Building wheel for PyBrain (setup.py): started\n",
      "  Building wheel for PyBrain (setup.py): finished with status 'done'\n",
      "  Created wheel for PyBrain: filename=PyBrain-0.3.1-py3-none-any.whl size=468232 sha256=c14c4358157039c6aa139dca571ea55f4ba6b1b4016f958b196c2bd90350c17c\n",
      "  Stored in directory: C:\\Users\\joydip.chowdhury\\AppData\\Local\\Temp\\pip-ephem-wheel-cache-gzede3ts\\wheels\\ea\\68\\6d\\74c3ea34a0e8263c72bff928915f86b72ec7634f6f2ffb491f\n",
      "Successfully built PyBrain\n",
      "Installing collected packages: PyBrain\n",
      "Successfully installed PyBrain-0.3.1\n"
     ]
    }
   ],
   "source": [
    "!pip install https://github.com/pybrain/pybrain/archive/0.3.3.zip"
   ]
  },
  {
   "cell_type": "code",
   "execution_count": 3,
   "id": "aa9a06b1",
   "metadata": {},
   "outputs": [],
   "source": [
    "import pybrain"
   ]
  },
  {
   "cell_type": "code",
   "execution_count": 4,
   "id": "fe94928d",
   "metadata": {},
   "outputs": [],
   "source": [
    "from pybrain.structure import FeedForwardNetwork\n",
    "from pybrain.structure import SigmoidLayer, LinearLayer, BiasUnit\n",
    "from pybrain.structure import FullConnection"
   ]
  },
  {
   "cell_type": "code",
   "execution_count": 5,
   "id": "7100193e",
   "metadata": {},
   "outputs": [],
   "source": [
    "network = FeedForwardNetwork()"
   ]
  },
  {
   "cell_type": "code",
   "execution_count": 6,
   "id": "7d58f8a5",
   "metadata": {},
   "outputs": [],
   "source": [
    "input_layer = LinearLayer(2)\n",
    "hidden_layer = SigmoidLayer(3)\n",
    "output_layer = SigmoidLayer(1)\n",
    "bias0 = BiasUnit()\n",
    "bias1 = BiasUnit()"
   ]
  },
  {
   "cell_type": "code",
   "execution_count": 7,
   "id": "c972d25f",
   "metadata": {},
   "outputs": [],
   "source": [
    "network.addModule(input_layer)\n",
    "network.addModule(hidden_layer)\n",
    "network.addModule(output_layer)\n",
    "network.addModule(bias0)\n",
    "network.addModule(bias1)"
   ]
  },
  {
   "cell_type": "code",
   "execution_count": 8,
   "id": "7de5081b",
   "metadata": {},
   "outputs": [],
   "source": [
    "input_to_hidden = FullConnection(input_layer, hidden_layer)\n",
    "hidden_to_output = FullConnection(hidden_layer, output_layer)\n",
    "bias_hidden = FullConnection(bias0, hidden_layer)\n",
    "bias_output = FullConnection(bias1, output_layer)"
   ]
  },
  {
   "cell_type": "code",
   "execution_count": 9,
   "id": "623a8dd1",
   "metadata": {},
   "outputs": [],
   "source": [
    "network.sortModules()"
   ]
  },
  {
   "cell_type": "code",
   "execution_count": 10,
   "id": "ec03a4c3",
   "metadata": {},
   "outputs": [
    {
     "name": "stdout",
     "output_type": "stream",
     "text": [
      "FeedForwardNetwork-10\n",
      "   Modules:\n",
      "    [<BiasUnit 'BiasUnit-5'>, <BiasUnit 'BiasUnit-8'>, <LinearLayer 'LinearLayer-9'>, <SigmoidLayer 'SigmoidLayer-6'>, <SigmoidLayer 'SigmoidLayer-7'>]\n",
      "   Connections:\n",
      "    []\n",
      "\n"
     ]
    }
   ],
   "source": [
    "print(network)"
   ]
  },
  {
   "cell_type": "code",
   "execution_count": 11,
   "id": "54c8a663",
   "metadata": {},
   "outputs": [
    {
     "name": "stdout",
     "output_type": "stream",
     "text": [
      "[-0.66355957  0.60688352  0.76728685 -0.53105987 -0.93756746 -0.11552533]\n"
     ]
    }
   ],
   "source": [
    "print(input_to_hidden.params)"
   ]
  },
  {
   "cell_type": "code",
   "execution_count": 12,
   "id": "32898203",
   "metadata": {},
   "outputs": [
    {
     "name": "stdout",
     "output_type": "stream",
     "text": [
      "[ 2.54134601 -0.4210731  -0.39777456]\n"
     ]
    }
   ],
   "source": [
    "print(hidden_to_output.params)"
   ]
  },
  {
   "cell_type": "code",
   "execution_count": 13,
   "id": "a99055b1",
   "metadata": {},
   "outputs": [
    {
     "name": "stdout",
     "output_type": "stream",
     "text": [
      "[ 0.10030757 -0.56091194 -0.30679939]\n"
     ]
    }
   ],
   "source": [
    "print(bias_hidden.params)"
   ]
  },
  {
   "cell_type": "code",
   "execution_count": 14,
   "id": "3614462f",
   "metadata": {},
   "outputs": [
    {
     "name": "stdout",
     "output_type": "stream",
     "text": [
      "[1.80761598]\n"
     ]
    }
   ],
   "source": [
    "print(bias_output.params)"
   ]
  }
 ],
 "metadata": {
  "kernelspec": {
   "display_name": "Python 3",
   "language": "python",
   "name": "python3"
  },
  "language_info": {
   "codemirror_mode": {
    "name": "ipython",
    "version": 3
   },
   "file_extension": ".py",
   "mimetype": "text/x-python",
   "name": "python",
   "nbconvert_exporter": "python",
   "pygments_lexer": "ipython3",
   "version": "3.8.8"
  }
 },
 "nbformat": 4,
 "nbformat_minor": 5
}
